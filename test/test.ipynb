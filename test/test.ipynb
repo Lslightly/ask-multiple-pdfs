{
 "cells": [
  {
   "cell_type": "code",
   "execution_count": 1,
   "metadata": {},
   "outputs": [
    {
     "name": "stdout",
     "output_type": "stream",
     "text": [
      "Cloning into 'chatglm3-6b'...\n",
      "remote: Enumerating objects: 140, done.\u001b[K\n",
      "remote: Total 140 (delta 0), reused 0 (delta 0), pack-reused 140\u001b[K\n",
      "Receiving objects: 100% (140/140), 47.10 KiB | 468.00 KiB/s, done.\n",
      "Resolving deltas: 100% (64/64), done.\n",
      "^Cltering content:  33% (5/15), 8.74 GiB | 8.50 MiB/s \n",
      "warning: Clone succeeded, but checkout failed.\n",
      "You can inspect what was checked out with 'git status'\n",
      "and retry with 'git restore --source=HEAD :/'\n",
      "\n",
      "\n",
      "Exiting because of \"interrupt\" signal.\n"
     ]
    }
   ],
   "source": [
    "! git clone https://www.modelscope.cn/ZhipuAI/chatglm3-6b.git"
   ]
  },
  {
   "cell_type": "code",
   "execution_count": null,
   "metadata": {},
   "outputs": [],
   "source": [
    "! git clone https://www.modelscope.cn/AI-ModelScope/bge-base-zhv1.5.git"
   ]
  },
  {
   "cell_type": "code",
   "execution_count": null,
   "metadata": {},
   "outputs": [],
   "source": [
    "from intel_extension_for_transformers.neural_chat import\n",
    "PipelineConfig\n",
    "from intel_extension_for_transformers.neural_chat import\n",
    "build_chatbot\n",
    "from intel_extension_for_transformers.neural_chat import plugins\n",
    "from intel_extension_for_transformers.transformers import RtnConfig\n",
    "plugins.retrieval.enable=True\n",
    "plugins.retrieval.args['embedding_model'] = \"./bge-base-zh-v1.5\"\n",
    "plugins.retrieval.args[\"input_path\"]=\"./sample.jsonl\"\n",
    "config = PipelineConfig(model_name_or_path='./chatglm3-6b',\n",
    "plugins=plugins,\n",
    "optimization_config=RtnConfig(compute_dtype=\"int8\",\n",
    "weight_dtype=\"int4_fullrange\"))\n",
    "chatbot = build_chatbot(config)"
   ]
  },
  {
   "cell_type": "code",
   "execution_count": null,
   "metadata": {},
   "outputs": [],
   "source": [
    "plugins.retrieval.enable=False # disable retrieval\n",
    "response = chatbot.predict(query=\"cnvrg.io 网站是由谁创建的？ \")\n",
    "print(response)"
   ]
  },
  {
   "cell_type": "code",
   "execution_count": null,
   "metadata": {},
   "outputs": [],
   "source": [
    "plugins.retrieval.enable=True # enable retrieval\n",
    "response = chatbot.predict(query=\"cnvrg.io 网站是由谁创建的？ \")\n",
    "print(response)"
   ]
  }
 ],
 "metadata": {
  "kernelspec": {
   "display_name": "itrex",
   "language": "python",
   "name": "python3"
  },
  "language_info": {
   "codemirror_mode": {
    "name": "ipython",
    "version": 3
   },
   "file_extension": ".py",
   "mimetype": "text/x-python",
   "name": "python",
   "nbconvert_exporter": "python",
   "pygments_lexer": "ipython3",
   "version": "3.10.14"
  }
 },
 "nbformat": 4,
 "nbformat_minor": 2
}
